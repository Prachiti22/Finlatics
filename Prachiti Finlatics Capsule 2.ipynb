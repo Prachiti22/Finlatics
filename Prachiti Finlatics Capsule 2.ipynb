{
 "cells": [
  {
   "cell_type": "code",
   "execution_count": 1,
   "id": "e79b399b",
   "metadata": {},
   "outputs": [
    {
     "name": "stdout",
     "output_type": "stream",
     "text": [
      "Enter a year: 2009\n",
      "2009 is not a leap year.\n"
     ]
    }
   ],
   "source": [
    "#Q1\n",
    "def is_leap_year(year):\n",
    "    if (year % 4 == 0 and year % 100 != 0) or (year % 400 == 0):\n",
    "        return True\n",
    "    else:\n",
    "        return False\n",
    "\n",
    "year = int(input(\"Enter a year: \"))\n",
    "if is_leap_year(year):\n",
    "    print(f\"{year} is a leap year.\")\n",
    "else:\n",
    "    print(f\"{year} is not a leap year.\")\n"
   ]
  },
  {
   "cell_type": "code",
   "execution_count": 2,
   "id": "a3c76f85",
   "metadata": {},
   "outputs": [
    {
     "name": "stdout",
     "output_type": "stream",
     "text": [
      "Enter a word: Prachiti\n",
      "Number of vowels in 'Prachiti': 3\n"
     ]
    }
   ],
   "source": [
    "#Q2\n",
    "def count_vowels(word):\n",
    "    vowels = 'aeiou'\n",
    "    count = 0\n",
    "    for char in word.lower():\n",
    "        if char in vowels:\n",
    "            count += 1\n",
    "    return count\n",
    "\n",
    "word = input(\"Enter a word: \")\n",
    "print(f\"Number of vowels in '{word}': {count_vowels(word)}\")"
   ]
  },
  {
   "cell_type": "code",
   "execution_count": 3,
   "id": "2e4af2ac",
   "metadata": {},
   "outputs": [
    {
     "name": "stdout",
     "output_type": "stream",
     "text": [
      "Enter name 1: Prachiti\n",
      "Enter name 2: Abhilash\n",
      "Enter name 3: Riya\n",
      "Enter name 4: Pranav \n",
      "Enter name 5: Ayush\n",
      "Enter name 6: Devanshu\n",
      "Names starting with 'a': ['Abhilash', 'Ayush']\n"
     ]
    }
   ],
   "source": [
    "#Q3\n",
    "names = [input(f\"Enter name {i+1}: \") for i in range(6)]\n",
    "a_names = [name for name in names if name.lower().startswith('a')]\n",
    "print(\"Names starting with 'a':\", a_names)"
   ]
  },
  {
   "cell_type": "code",
   "execution_count": 4,
   "id": "b6256cf4",
   "metadata": {},
   "outputs": [
    {
     "name": "stdout",
     "output_type": "stream",
     "text": [
      "Enter number 1: 4\n",
      "Enter number 2: 6\n",
      "Enter number 3: 2\n",
      "Enter number 4: 8\n",
      "Enter number 5: 3\n",
      "Enter number 6: 5\n",
      "Enter number 7: 8\n",
      "Enter number 8: 7\n",
      "Enter number 9: 6\n",
      "Enter number 10: 1\n",
      "16\n",
      "36\n",
      "4\n",
      "64\n",
      "27\n",
      "125\n",
      "64\n",
      "343\n",
      "36\n",
      "1\n"
     ]
    }
   ],
   "source": [
    "#Q4\n",
    "numbers = [int(input(f\"Enter number {i+1}: \")) for i in range(10)]\n",
    "\n",
    "for num in numbers:\n",
    "    if num % 2 == 0:\n",
    "        print(num ** 2)\n",
    "    else:\n",
    "        print(num ** 3)\n"
   ]
  },
  {
   "cell_type": "code",
   "execution_count": 5,
   "id": "be9e76e4",
   "metadata": {},
   "outputs": [
    {
     "name": "stdout",
     "output_type": "stream",
     "text": [
      "Enter the count of roses you wish to order: 5\n",
      "Enter the delivery distance in kilometers: 4\n",
      "Total price to pay: Rs. 75\n"
     ]
    }
   ],
   "source": [
    "#Q5\n",
    "rose_price = 10\n",
    "\n",
    "roses_count = int(input(\"Enter the count of roses you wish to order: \"))\n",
    "delivery_distance = float(input(\"Enter the delivery distance in kilometers: \"))\n",
    "\n",
    "delivery_charge = 25\n",
    "if delivery_distance > 5:\n",
    "    delivery_charge = 50\n",
    "if delivery_distance > 10:\n",
    "    delivery_charge = 75\n",
    "\n",
    "total_price = rose_price * roses_count + delivery_charge\n",
    "print(f\"Total price to pay: Rs. {total_price}\")\n"
   ]
  },
  {
   "cell_type": "code",
   "execution_count": null,
   "id": "c81f2b29",
   "metadata": {},
   "outputs": [],
   "source": []
  }
 ],
 "metadata": {
  "kernelspec": {
   "display_name": "Python 3 (ipykernel)",
   "language": "python",
   "name": "python3"
  },
  "language_info": {
   "codemirror_mode": {
    "name": "ipython",
    "version": 3
   },
   "file_extension": ".py",
   "mimetype": "text/x-python",
   "name": "python",
   "nbconvert_exporter": "python",
   "pygments_lexer": "ipython3",
   "version": "3.11.5"
  }
 },
 "nbformat": 4,
 "nbformat_minor": 5
}
