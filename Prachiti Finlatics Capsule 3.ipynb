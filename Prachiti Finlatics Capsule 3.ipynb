{
 "cells": [
  {
   "cell_type": "code",
   "execution_count": 1,
   "metadata": {
    "colab": {
     "base_uri": "https://localhost:8080/"
    },
    "id": "93cC-odnZEpn",
    "outputId": "f8906930-ed60-4a6d-b212-ca9e1050d971"
   },
   "outputs": [
    {
     "name": "stdout",
     "output_type": "stream",
     "text": [
      "Original Array:\n",
      "[[1 2 3]\n",
      " [4 5 6]\n",
      " [7 8 9]]\n",
      "\n",
      "Array multiplied by 2:\n",
      "[[ 2  4  6]\n",
      " [ 8 10 12]\n",
      " [14 16 18]]\n",
      "\n",
      "Array with 5 added to each element:\n",
      "[[ 6  7  8]\n",
      " [ 9 10 11]\n",
      " [12 13 14]]\n",
      "\n",
      "Array with each element squared:\n",
      "[[ 1  4  9]\n",
      " [16 25 36]\n",
      " [49 64 81]]\n"
     ]
    }
   ],
   "source": [
    "#Q1\n",
    "import numpy as np\n",
    "\n",
    "# Initialize a 3x3 NumPy array with integer values\n",
    "arr = np.array([[1, 2, 3],\n",
    "                [4, 5, 6],\n",
    "                [7, 8, 9]])\n",
    "\n",
    "print(\"Original Array:\")\n",
    "print(arr)\n",
    "\n",
    "# Multiply the entire array by 2\n",
    "arr_multiplied = arr * 2\n",
    "print(\"\\nArray multiplied by 2:\")\n",
    "print(arr_multiplied)\n",
    "\n",
    "# Add 5 to each element of the array\n",
    "arr_added_5 = arr + 5\n",
    "print(\"\\nArray with 5 added to each element:\")\n",
    "print(arr_added_5)\n",
    "\n",
    "# Calculate the square of each element in the array\n",
    "arr_squared = arr ** 2\n",
    "print(\"\\nArray with each element squared:\")\n",
    "print(arr_squared)\n"
   ]
  },
  {
   "cell_type": "code",
   "execution_count": 2,
   "metadata": {
    "colab": {
     "base_uri": "https://localhost:8080/"
    },
    "id": "J0vueZXrZR8j",
    "outputId": "8543de22-0826-4e36-bff2-81320e97ab25"
   },
   "outputs": [
    {
     "name": "stdout",
     "output_type": "stream",
     "text": [
      "Original Array:\n",
      "[[1 2 3]\n",
      " [4 5 6]\n",
      " [7 8 9]]\n",
      "\n",
      "First Row:\n",
      "[1 2 3]\n",
      "\n",
      "Last Column:\n",
      "[3 6 9]\n",
      "\n",
      "2x2 Sub-array from the center:\n",
      "[[5 6]\n",
      " [8 9]]\n"
     ]
    }
   ],
   "source": [
    "#Q2\n",
    "import numpy as np\n",
    "\n",
    "# Initialize a 3x3 NumPy array with integer values\n",
    "arr = np.array([[1, 2, 3],\n",
    "                [4, 5, 6],\n",
    "                [7, 8, 9]])\n",
    "\n",
    "print(\"Original Array:\")\n",
    "print(arr)\n",
    "\n",
    "# Extract the first row of the array\n",
    "first_row = arr[0]\n",
    "print(\"\\nFirst Row:\")\n",
    "print(first_row)\n",
    "\n",
    "# Extract the last column of the array\n",
    "last_column = arr[:, -1]\n",
    "print(\"\\nLast Column:\")\n",
    "print(last_column)\n",
    "\n",
    "# Extract a 2x2 sub-array from the center of the original array\n",
    "sub_array = arr[1:3, 1:3]\n",
    "print(\"\\n2x2 Sub-array from the center:\")\n",
    "print(sub_array)\n",
    "\n"
   ]
  },
  {
   "cell_type": "code",
   "execution_count": 3,
   "metadata": {
    "colab": {
     "base_uri": "https://localhost:8080/"
    },
    "id": "d8nnlsOZZVCZ",
    "outputId": "117e0eec-8f84-4328-9266-317385daa478"
   },
   "outputs": [
    {
     "name": "stdout",
     "output_type": "stream",
     "text": [
      "        Name  Marks\n",
      "0   Student1     80\n",
      "1   Student2     75\n",
      "2   Student3     90\n",
      "3   Student4     85\n",
      "4   Student5     78\n",
      "5   Student6     92\n",
      "6   Student7     88\n",
      "7   Student8     70\n",
      "8   Student9     95\n",
      "9  Student10     82\n"
     ]
    }
   ],
   "source": [
    "#Q3\n",
    "import pandas as pd\n",
    "\n",
    "# Create DataFrame to store names and marks of students\n",
    "data = {'Name': ['Student1', 'Student2', 'Student3', 'Student4', 'Student5', 'Student6', 'Student7', 'Student8', 'Student9', 'Student10'],\n",
    "        'Marks': [80, 75, 90, 85, 78, 92, 88, 70, 95, 82]}\n",
    "\n",
    "df = pd.DataFrame(data)\n",
    "\n",
    "print(df)\n"
   ]
  },
  {
   "cell_type": "code",
   "execution_count": 4,
   "metadata": {
    "colab": {
     "base_uri": "https://localhost:8080/"
    },
    "id": "8dHLF9AzZYTg",
    "outputId": "01ce6cde-4d9a-4dc9-fe59-905082c4f9eb"
   },
   "outputs": [
    {
     "name": "stdout",
     "output_type": "stream",
     "text": [
      "  Employee_name  Income\n",
      "a          John   50000\n",
      "b         Emily   60000\n",
      "c       Michael   55000\n",
      "d         Sarah   70000\n",
      "e         David   48000\n"
     ]
    }
   ],
   "source": [
    "#Q4\n",
    "import pandas as pd\n",
    "\n",
    "# Create DataFrame representing names and income of employees\n",
    "data = {'Employee_name': ['John', 'Emily', 'Michael', 'Sarah', 'David'],\n",
    "        'Income': [50000, 60000, 55000, 70000, 48000]}\n",
    "\n",
    "df = pd.DataFrame(data, index=['a', 'b', 'c', 'd', 'e'])\n",
    "\n",
    "print(df)\n"
   ]
  },
  {
   "cell_type": "code",
   "execution_count": 5,
   "metadata": {
    "colab": {
     "base_uri": "https://localhost:8080/",
     "height": 472
    },
    "id": "k31XMi2BZcPg",
    "outputId": "715e4b02-41a8-42d5-88fe-9554cd3124ed"
   },
   "outputs": [
    {
     "data": {
      "image/png": "[encoded data removed]",
      "text/plain": [
       "<Figure size 640x480 with 1 Axes>"
      ]
     },
     "metadata": {},
     "output_type": "display_data"
    }
   ],
   "source": [
    "#Q5\n",
    "import matplotlib.pyplot as plt\n",
    "\n",
    "x = ['A', 'B', 'C', 'D', 'E']\n",
    "y = [10, 20, 15, 25, 30]\n",
    "\n",
    "plt.bar(x, y)\n",
    "plt.xlabel('Categories')\n",
    "plt.ylabel('Frequency')\n",
    "plt.title('Frequency of Occurrences for Categories A, B, C, D, and E')\n",
    "plt.show()\n"
   ]
  },
  {
   "cell_type": "code",
   "execution_count": null,
   "metadata": {},
   "outputs": [],
   "source": []
  }
 ],
 "metadata": {
  "colab": {
   "provenance": []
  },
  "kernelspec": {
   "display_name": "Python 3 (ipykernel)",
   "language": "python",
   "name": "python3"
  },
  "language_info": {
   "codemirror_mode": {
    "name": "ipython",
    "version": 3
   },
   "file_extension": ".py",
   "mimetype": "text/x-python",
   "name": "python",
   "nbconvert_exporter": "python",
   "pygments_lexer": "ipython3",
   "version": "3.11.5"
  }
 },
 "nbformat": 4,
 "nbformat_minor": 1
}
