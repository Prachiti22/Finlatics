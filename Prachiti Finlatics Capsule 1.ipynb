{
 "cells": [
  {
   "cell_type": "code",
   "execution_count": 1,
   "id": "aa3ff6f5",
   "metadata": {},
   "outputs": [
    {
     "name": "stdout",
     "output_type": "stream",
     "text": [
      "Enter your name: Prachiti Kulkarni\n",
      "Hello, Prachiti Kulkarni!\n",
      "Enter the first value: 23\n",
      "Enter the second value: 40\n",
      "Original values: 23 40\n",
      "Swapped values: 40 23\n"
     ]
    }
   ],
   "source": [
    "# Q1\n",
    "name = input(\"Enter your name: \")\n",
    "print(\"Hello,\", name + \"!\")\n",
    "\n",
    "# Prompt user to enter two values\n",
    "value1 = input(\"Enter the first value: \")\n",
    "value2 = input(\"Enter the second value: \")\n",
    "\n",
    "# Print original values\n",
    "print(\"Original values:\", value1, value2)\n",
    "\n",
    "# Swap the values\n",
    "value1, value2 = value2, value1\n",
    "\n",
    "# Print swapped values\n",
    "print(\"Swapped values:\", value1, value2)"
   ]
  },
  {
   "cell_type": "code",
   "execution_count": 2,
   "id": "9b0a5e69",
   "metadata": {},
   "outputs": [
    {
     "name": "stdout",
     "output_type": "stream",
     "text": [
      "Enter the radius of the circle: 5\n",
      "The area of the circle is: 78.53981633974483\n"
     ]
    }
   ],
   "source": [
    "# Q2\n",
    "import math\n",
    "\n",
    "radius = float(input(\"Enter the radius of the circle: \"))\n",
    "area = math.pi * radius ** 2\n",
    "print(\"The area of the circle is:\", area)"
   ]
  },
  {
   "cell_type": "code",
   "execution_count": 3,
   "id": "21af9135",
   "metadata": {},
   "outputs": [
    {
     "name": "stdout",
     "output_type": "stream",
     "text": [
      "Enter your birth year: 2003\n",
      "Your current age is: 21\n"
     ]
    }
   ],
   "source": [
    "# Q3\n",
    "from datetime import datetime\n",
    "\n",
    "birth_year = int(input(\"Enter your birth year: \"))\n",
    "current_year = datetime.now().year\n",
    "age = current_year - birth_year\n",
    "print(\"Your current age is:\", age)\n"
   ]
  },
  {
   "cell_type": "code",
   "execution_count": 4,
   "id": "99a716ff",
   "metadata": {},
   "outputs": [
    {
     "name": "stdout",
     "output_type": "stream",
     "text": [
      "Enter your name: Prachiti \n",
      "Enter your favorite cake flavor: Chocolate\n",
      "Hello, Prachiti ! We're delighted to serve you your favorite Chocolate cake on your birthday. Happy Birthday.\n"
     ]
    }
   ],
   "source": [
    "# Q4\n",
    "name = input(\"Enter your name: \")\n",
    "favorite_cake = input(\"Enter your favorite cake flavor: \")\n",
    "\n",
    "message = f\"Hello, {name}! We're delighted to serve you your favorite {favorite_cake} cake on your birthday. Happy Birthday.\"\n",
    "print(message)"
   ]
  },
  {
   "cell_type": "code",
   "execution_count": 5,
   "id": "7a31f960",
   "metadata": {},
   "outputs": [
    {
     "name": "stdout",
     "output_type": "stream",
     "text": [
      "Enter the principal amount: 10000\n",
      "Enter the rate of interest (in percentage): 12\n",
      "Enter the time period (in years): 2\n",
      "Simple interest: 2400.0\n"
     ]
    }
   ],
   "source": [
    "# Q5\n",
    "principal = float(input(\"Enter the principal amount: \"))\n",
    "rate = float(input(\"Enter the rate of interest (in percentage): \"))\n",
    "time = float(input(\"Enter the time period (in years): \"))\n",
    "\n",
    "simple_interest = (principal * rate * time) / 100\n",
    "print(\"Simple interest:\", simple_interest)\n"
   ]
  },
  {
   "cell_type": "code",
   "execution_count": null,
   "id": "a507f942",
   "metadata": {},
   "outputs": [],
   "source": []
  }
 ],
 "metadata": {
  "kernelspec": {
   "display_name": "Python 3 (ipykernel)",
   "language": "python",
   "name": "python3"
  },
  "language_info": {
   "codemirror_mode": {
    "name": "ipython",
    "version": 3
   },
   "file_extension": ".py",
   "mimetype": "text/x-python",
   "name": "python",
   "nbconvert_exporter": "python",
   "pygments_lexer": "ipython3",
   "version": "3.11.5"
  }
 },
 "nbformat": 4,
 "nbformat_minor": 5
}
